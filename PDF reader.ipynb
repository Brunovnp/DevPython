{
 "cells": [
  {
   "cell_type": "markdown",
   "metadata": {},
   "source": [
    "#  Leitor de PDF \n",
    "\n",
    "O seguinte Modelo tem com objetivo realizar leitura de arquivos com extensão \".pdf\"\n",
    "\n",
    "Para os arquivos pdf de origem utiliza-se a biblioteca pdfplumber; já os arquivos scaneados\n",
    "em formato pdf são lido mediante a biblioteca pytsseract(OCR).\n",
    "\n",
    "Esse modelo é um pequeno exemplo de um modelo real que desenvolvi para um projeto,\n",
    "o qual realiza a leitura do pdf e entrega um arquivo xml. Logos as nota fiscais de\n",
    "serviço  são lidas e transformadas em xml e entregues para leitura do ERP.\n",
    "\n",
    "Após a coseguir realizar a leitura do arquivo podemos realizar manipulação\n",
    "dos dados que serão entregues no tipo \"str\". Sendo assim, podemos utilizar\n",
    "a biblioteca re(Expressões Regulares).\n",
    "Utilizarei com exemplo duas notas fiscais fictícias, as quais estão em pdf.\n",
    "A primeira é um pdf scaneado e a segunda é um arquivo de origem.\n"
   ]
  },
  {
   "cell_type": "code",
   "execution_count": 1,
   "metadata": {},
   "outputs": [],
   "source": [
    "# imports\n",
    "import pdfplumber\n",
    "import os\n",
    "from pdf2image import convert_from_path\n",
    "import pytesseract\n",
    "pytesseract.pytesseract.tesseract_cmd=r'Tesseract-OCR\\\\tesseract.exe'\n",
    "import cv2\n",
    "import re"
   ]
  },
  {
   "cell_type": "markdown",
   "metadata": {},
   "source": [
    "## Algoritimo de Leitura"
   ]
  },
  {
   "cell_type": "code",
   "execution_count": 2,
   "metadata": {},
   "outputs": [],
   "source": [
    "# Metódo para lista os itens do diretório de leitura\n",
    "def aqr_dir(url):\n",
    "    dir_ = url\n",
    "    path = [os.path.join(dir_, nome) for nome in os.listdir(dir_)]\n",
    "    url_res = [arq for arq in path if os.path.isfile(arq)]\n",
    "    arq = [nome.replace('.pdf',\"\") for nome in os.listdir(dir_)]\n",
    "    \n",
    "    return url_res, arq\n",
    "\n",
    "\n",
    "# Metódo para realizar leitura de arquivo de origem pdf\n",
    "def pdf(url):\n",
    "    with pdfplumber.open(url) as pdf:        \n",
    "        page =[pdf.pages[i] for i in range(len(pdf.pages))]      \n",
    "        extracText = [page[i].extract_text() for i in range(len(page))]\n",
    "                  \n",
    "        return extracText\n",
    "    \n",
    "\n",
    "# Metódo para realizar leitura de arquivos de formatos img ou pdf scaneados\n",
    "def ocr(url, arq):\n",
    "        \n",
    "    text = []\n",
    "    res = []        \n",
    "            \n",
    "    def reduce(img):  \n",
    "        gray = cv2.cvtColor(img, cv2.COLOR_BGR2GRAY)\n",
    "        th, threshed = cv2.threshold(gray, 250, 255, cv2.THRESH_BINARY_INV)\n",
    "        kernel = cv2.getStructuringElement(cv2.MORPH_ELLIPSE, (80,80))\n",
    "        morphed = cv2.morphologyEx(threshed, cv2.MORPH_CLOSE, kernel)\n",
    "        cnts = cv2.findContours(morphed, cv2.RETR_EXTERNAL, cv2.CHAIN_APPROX_SIMPLE)[-2]\n",
    "        cnt = sorted(cnts, key=cv2.contourArea)[-1]\n",
    "        x,y,w,h = cv2.boundingRect(cnt)\n",
    "        dst = img[y:y+h, x:x+w]\n",
    "        return dst\n",
    "    \n",
    "    img = convert_from_path(url, dpi=300, poppler_path=r'poppler-0.68.0\\\\bin')   \n",
    "    im = [imgs.save('nf_img\\\\'+str(arq+'.png'),\"PNG\") for imgs in img]\n",
    "                \n",
    "    nfdir = 'nf_img'\n",
    "    path = [os.path.join(nfdir, nome) for nome in os.listdir(nfdir)]\n",
    "    url = [arq for arq in path if os.path.isfile(arq)]\n",
    "    url_img = [u for u in url if \".png\" in u]\n",
    "                \n",
    "    imagem = cv2.imread(url_img[0])\n",
    "    img_res = reduce(imagem)\n",
    "                \n",
    "    gray = cv2.cvtColor(img_res, cv2.COLOR_BGR2GRAY)\n",
    "    adp = cv2.adaptiveThreshold(gray, 255, cv2.ADAPTIVE_THRESH_GAUSSIAN_C, cv2.THRESH_BINARY,85,80)        \n",
    "    tx = (pytesseract.image_to_string(adp, lang='por',config='--psm 6'))\n",
    "                \n",
    "    [os.remove(u) for u in url_img if \".png\" in u]\n",
    "                \n",
    "    return tx   "
   ]
  },
  {
   "cell_type": "code",
   "execution_count": 3,
   "metadata": {},
   "outputs": [],
   "source": [
    "# Chamada ao metódo de leitura de diretórios\n",
    "url, name = aqr_dir('nf')"
   ]
  },
  {
   "cell_type": "code",
   "execution_count": 4,
   "metadata": {},
   "outputs": [
    {
     "name": "stdout",
     "output_type": "stream",
     "text": [
      "nf\\nota_01.pdf\n",
      "nf\\nota_02.pdf\n"
     ]
    }
   ],
   "source": [
    "#print dos itens\n",
    "for u in url:\n",
    "    print(u)"
   ]
  },
  {
   "cell_type": "code",
   "execution_count": 5,
   "metadata": {},
   "outputs": [
    {
     "name": "stdout",
     "output_type": "stream",
     "text": [
      "nota_01\n",
      "nota_02\n"
     ]
    }
   ],
   "source": [
    "#print do nome dositens\n",
    "for n in name:\n",
    "    print(n)"
   ]
  },
  {
   "cell_type": "code",
   "execution_count": 6,
   "metadata": {},
   "outputs": [],
   "source": [
    "# Leitura dos itens\n",
    "tx = [p if p!= None else ocr(url[i],name[i]) for i in range(len(url)) for p in pdf(url[i])]"
   ]
  },
  {
   "cell_type": "code",
   "execution_count": 7,
   "metadata": {},
   "outputs": [
    {
     "data": {
      "text/plain": [
       "['Vu PREFEITURA DA CIDADE DO RIO DEJANEIRO — |É |Memen SA noa',\n",
       " 'M ” DOOOO033',\n",
       " '= \" SECRETARIA MUNICIPAL DE FAZENDA Data e Hora de Emissão',\n",
       " 'ç Z A D4/02/2021 09:34:33',\n",
       " \"% ' NOTA FISCAL DE SERVIÇOS ELETRONICA - NFS-e d o\",\n",
       " 'oA TS o ódigo de Verificação',\n",
       " '2O210217U34126214000120 - NOTA CARIOCA - RH2B-ENJT',\n",
       " 'PRESTADOR DE SERVIÇOS']"
      ]
     },
     "execution_count": 7,
     "metadata": {},
     "output_type": "execute_result"
    }
   ],
   "source": [
    "# Texto extraido da primeira nota fiscal (arqivo lido pelo ocr)\n",
    "nota1 = tx[0].split('\\n')[0:8] \n",
    "nota1"
   ]
  },
  {
   "cell_type": "code",
   "execution_count": 8,
   "metadata": {},
   "outputs": [
    {
     "data": {
      "text/plain": [
       "['PREFEITURA MUNICIPAL DE RIO CLARO',\n",
       " 'Número da',\n",
       " 'SECRETARIA MUNICIPAL DE ECONOMIA E NFS-e',\n",
       " 'NOTA FISCAL ELETRÔNICA DE SERVIÇO - NFS-e 107',\n",
       " 'Código de Verificação',\n",
       " 'Data e Hora da Emissão 04/02/2021 11:16:11 Competência 4/2/2021 M5R5YHNQB',\n",
       " 'No. da NFS-e substituída',\n",
       " 'Número do RPS Local da Prestação RIO CLARO - SP']"
      ]
     },
     "execution_count": 8,
     "metadata": {},
     "output_type": "execute_result"
    }
   ],
   "source": [
    "# Texto extraido da segunda nota fiscal (arqivo lido pelo  pdfplumber)\n",
    "nota2 = tx[1].split('\\n')[0:8] \n",
    "nota2"
   ]
  },
  {
   "cell_type": "markdown",
   "metadata": {},
   "source": [
    "## Captura de dados com Expressões Regulares"
   ]
  },
  {
   "cell_type": "code",
   "execution_count": 9,
   "metadata": {},
   "outputs": [
    {
     "data": {
      "text/plain": [
       "'04/02/2021'"
      ]
     },
     "execution_count": 9,
     "metadata": {},
     "output_type": "execute_result"
    }
   ],
   "source": [
    "# Captura da data de emissão da segunda nota\n",
    "data = [r for t in nota2 for r in re.findall(r'[\\d{2}/]*\\d{4}',t) if r][0]\n",
    "data"
   ]
  },
  {
   "cell_type": "markdown",
   "metadata": {},
   "source": [
    "Assim com o exemplo assim podemos extrair diversar iformações da nota fiscal\n",
    "e depois entregar esses dados em um formato XML, por exemplo.\n"
   ]
  },
  {
   "cell_type": "code",
   "execution_count": null,
   "metadata": {},
   "outputs": [],
   "source": []
  }
 ],
 "metadata": {
  "kernelspec": {
   "display_name": "Python 3",
   "language": "python",
   "name": "python3"
  },
  "language_info": {
   "codemirror_mode": {
    "name": "ipython",
    "version": 3
   },
   "file_extension": ".py",
   "mimetype": "text/x-python",
   "name": "python",
   "nbconvert_exporter": "python",
   "pygments_lexer": "ipython3",
   "version": "3.8.5"
  }
 },
 "nbformat": 4,
 "nbformat_minor": 4
}
