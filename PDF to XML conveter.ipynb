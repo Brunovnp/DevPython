{
 "cells": [
  {
   "cell_type": "code",
   "execution_count": null,
   "metadata": {},
   "outputs": [],
   "source": []
  },
  {
   "cell_type": "code",
   "execution_count": null,
   "metadata": {},
   "outputs": [],
   "source": []
  },
  {
   "cell_type": "markdown",
   "metadata": {},
   "source": [
    "# Algoritimo de Leitura"
   ]
  },
  {
   "cell_type": "code",
   "execution_count": 1,
   "metadata": {},
   "outputs": [],
   "source": [
    "# imports\n",
    "import pdfplumber\n",
    "import os\n",
    "from pdf2image import convert_from_path\n",
    "import pytesseract\n",
    "pytesseract.pytesseract.tesseract_cmd=r'Tesseract-OCR\\\\tesseract.exe'\n",
    "import cv2"
   ]
  },
  {
   "cell_type": "code",
   "execution_count": 40,
   "metadata": {},
   "outputs": [],
   "source": [
    "# Metódo para lista os itens do diretório de leitura\n",
    "def aqr_dir(url):\n",
    "    dir_ = url\n",
    "    path = [os.path.join(dir_, nome) for nome in os.listdir(dir_)]\n",
    "    url_res = [arq for arq in path if os.path.isfile(arq)]\n",
    "    arq = [nome.replace('.pdf',\"\") for nome in os.listdir(dir_)]\n",
    "    \n",
    "    return url_res, arq\n",
    "\n",
    "\n",
    "# Metódo para realizar leitura de arquivo de origem pdf\n",
    "def pdf(url):\n",
    "    with pdfplumber.open(url) as pdf:        \n",
    "        page =[pdf.pages[i] for i in range(len(pdf.pages))]      \n",
    "        extracText = [page[i].extract_text() for i in range(len(page))]\n",
    "                  \n",
    "        return extracText\n",
    "    \n",
    "\n",
    "# Metódo para realizar leitura de arquivos de formatos img ou pdf scaneados\n",
    "def ocr(url, arq):\n",
    "        \n",
    "    text = []\n",
    "    res = []        \n",
    "            \n",
    "    def reduce(img):  \n",
    "        gray = cv2.cvtColor(img, cv2.COLOR_BGR2GRAY)\n",
    "        th, threshed = cv2.threshold(gray, 250, 255, cv2.THRESH_BINARY_INV)\n",
    "        kernel = cv2.getStructuringElement(cv2.MORPH_ELLIPSE, (80,80))\n",
    "        morphed = cv2.morphologyEx(threshed, cv2.MORPH_CLOSE, kernel)\n",
    "        cnts = cv2.findContours(morphed, cv2.RETR_EXTERNAL, cv2.CHAIN_APPROX_SIMPLE)[-2]\n",
    "        cnt = sorted(cnts, key=cv2.contourArea)[-1]\n",
    "        x,y,w,h = cv2.boundingRect(cnt)\n",
    "        dst = img[y:y+h, x:x+w]\n",
    "        return dst\n",
    "    \n",
    "    img = convert_from_path(url, dpi=300, poppler_path=r'poppler-0.68.0\\\\bin')   \n",
    "    im = [imgs.save('nf_img\\\\'+str(arq+'.png'),\"PNG\") for imgs in img]\n",
    "                \n",
    "    nfdir = 'nf_img'\n",
    "    path = [os.path.join(nfdir, nome) for nome in os.listdir(nfdir)]\n",
    "    url = [arq for arq in path if os.path.isfile(arq)]\n",
    "    url_img = [u for u in url if \".png\" in u]\n",
    "                \n",
    "    imagem = cv2.imread(url_img[0])\n",
    "    img_res = reduce(imagem)\n",
    "                \n",
    "    gray = cv2.cvtColor(img_res, cv2.COLOR_BGR2GRAY)\n",
    "    adp = cv2.adaptiveThreshold(gray, 255, cv2.ADAPTIVE_THRESH_GAUSSIAN_C, cv2.THRESH_BINARY,85,80)        \n",
    "    tx = (pytesseract.image_to_string(adp, lang='por',config='--psm 6'))\n",
    "                \n",
    "    [os.remove(u) for u in url_img if \".png\" in u]\n",
    "                \n",
    "    return tx   "
   ]
  },
  {
   "cell_type": "code",
   "execution_count": 41,
   "metadata": {},
   "outputs": [],
   "source": [
    "# Chamada ao metódo de leitura de diretórios\n",
    "url, name = aqr_dir('nf')"
   ]
  },
  {
   "cell_type": "code",
   "execution_count": 42,
   "metadata": {},
   "outputs": [],
   "source": [
    "# Leitura dos itens\n",
    "tx = [p if p!= None else ocr(url[i],name[i]) for i in range(len(url)) for p in pdf(url[i])]"
   ]
  },
  {
   "cell_type": "code",
   "execution_count": 43,
   "metadata": {},
   "outputs": [
    {
     "data": {
      "text/plain": [
       "['Vu PREFEITURA DA CIDADE DO RIO DEJANEIRO — |É |Memen SA noa\\nM ” DOOOO033\\n= \" SECRETARIA MUNICIPAL DE FAZENDA Data e Hora de Emissão\\nç Z A D4/02/2021 09:34:33\\n% \\' NOTA FISCAL DE SERVIÇOS ELETRONICA - NFS-e d o\\noA TS o ódigo de Verificação\\n2O210217U34126214000120 - NOTA CARIOCA - RH2B-ENJT\\nPRESTADOR DE SERVIÇOS\\nCPF/CNPJ: 34.126.214/0001-20 Inscrição Municipal: 1.185.508-3 Inscrição Estadual: =--\\nNome/Razão Social: AZ 91 REPRESENTACOES LTDA\\nNome Fantasia: AZ 91 REPRESENTAÇÕES LTDA Tel.: 21-025973639\\nEndereço: RUA DEODATO DE MORAES 76, COB 02 - BARRA DA TIJUCA - CEP: 22620-070\\nMunicípio: RIO DE JANEIRO UF: RJ E-mail: ==---\\nTOMADOR DE SERVIÇOS\\nCPF/CNPJ: 47.173.950/0001-81 Inscrição Municipal: =-=-- Inscrição Estadual: --—--\\nNome/Razão Social: RINNAI BRASIL TEC DE AQUECIMENTO LTDA.\\nEndereço: RUA TTE ONOFRE RODRIGUES DE AGUIAR 200 - VILA INDUSTRIAL Tel : ===\\n* CEP: 08770-041 .\\nMunicípio: MOGI DAS CRUZES UF: SP E-mail: pedro&rinnal.com.br\\nDISCRIMINAÇÃO DOS SERVIÇOS\\nServiço de representação comercial\\nVALOR DA NOTA = R$ 32.640,58\\nServiço Prestado\\n10.09.01 - representação comercial\\nDeduções (R$) Desconto Incond. (R$) |Base de Cálculo (R$) Alíquota (%) YValor do ISS (R$) Crédito p IPTU (R$)\\n0,00 0,00 —— —— —— 0,00\\nOUTRAS INFORMAÇÕES\\n- Esta NFS-e foi emitida com respaldo na Lei nº 5.098 de 15/10/20089 e no Decreto nº 32.250 de 11/05/2010\\n- PROCON-RJ: Av. Rio Branco nº 25, 5º andar, tel 151: www .procon.rj.gov.br\\n- ISS devido deve ser recolhido por meio de Documento de Arrecadação do Simples Nacional (DAS).\\n- Documento emitido por ME ou EPP optante pelo Simples Nacional. Não gera direito a crédito fiscal de IPI.\\n- Esta NFS-e não gera crédito para abatimento no IPTU,\\n\\x0c',\n",
       " 'PREFEITURA MUNICIPAL DE RIO CLARO\\nNúmero da\\nSECRETARIA MUNICIPAL DE ECONOMIA E NFS-e\\nNOTA FISCAL ELETRÔNICA DE SERVIÇO - NFS-e 107\\nCódigo de Verificação\\nData e Hora da Emissão 04/02/2021 11:16:11 Competência 4/2/2021 M5R5YHNQB\\nNo. da NFS-e substituída\\nNúmero do RPS Local da Prestação RIO CLARO - SP\\nDados do Prestador de Serviços\\nRazão Social/Nome AZUL REPRESENTAÇÕES COMERCIAIS DE MATERIAIS PARA CONSTRUÇÃO LTDA\\nNome Fantasia AZUL REPRESENTAÇÕES COMERCIAIS\\nCNPJ/CPF 15.428.142/0001-21 Inscrição Municipal 60045 Município RIO CLARO - SP\\nEndereço e Cep ESTRADA VELHA SÃO CARLOS ,301 - GRANJA REGINA CEP: 13503-069\\nComplemento: CASA:2 G; Telefone: (19)3534-3409 e-mail: mauro_ralves@hotmail.com\\nDados do Tomador de Serviços\\nRazão Social/Nome RINNAI BRASIL TECNOLOGIA EM AQUECIMENTO LTDA\\nCNPJ/CPF 47.173.950/0001-81 Inscrição Municipal 45407258211 Município MOGI DAS CRUZES  - SP\\nEndereço e CEP RUA TENENTE ONOFRE RODRIGUES DE AGUIAR ,200 - VILA INDUSTRIAL CEP: 08770-040\\nComplemento: Telefone: e-mail:\\nDiscriminação dos Serviços\\nCOMISSÃO\\nPERÍODO  01/2021\\nCódigo do Serviço / Atividade\\n10.09 / 461330000 - REPRESENTANTES COMERCIAIS E AGENTES DO COMÉRCIO DE MADEIRA, MATERIAL DE CONSTRUÇÃO E FERRAGENS\\nDetalhamento Específico da Construção Civil\\nCódigo da Obra Código ART\\nTributos Federais\\nPIS COFINS IR(R$) 173,11 INSS(R$) CSLL(R$)\\nDetalhamento de Valores - Prestador dos Serviços Outras Retenções Cálculo do ISSQN devido no Município\\nValor dos Serviços    R$ 11.540,58 Natureza Operação Valor dos Serviços   R$ 11.540,58\\n(-)  Deduções permitidas em lei\\n(-) Desconto Incondicionado 1-Tributação no município\\n(-) Desconto Condicionado Regime especial Tributação (-)  Desconto Incondicionado\\n(-) Retenções Federais 173,11 0-Nenhum Base de Cálculo 11.540,58\\nOutras Retenções Opção Simples Nacional (x) Alíquota  % 2,00\\n2 - Não\\n(-) ISS Retido 0,00 ISS a reter: ( ) Sim (X) Não\\nIncentivador Cultura\\n(=)  Valor Líquido        R$ 11.367,47 (=) Valor do ISS:      R$ 230,81\\n2-Não\\n1- Uma via desta Nota Fiscal será enviada através do e-mail fornecido pelo Tomador dos Serviços.\\n2- A autenticidade desta Nota Fiscal poderá ser verificada no site, RIOCLARO.ginfes.com.br com a utilização do Código de Verificação.\\nAvisos']"
      ]
     },
     "execution_count": 43,
     "metadata": {},
     "output_type": "execute_result"
    }
   ],
   "source": [
    "tx"
   ]
  },
  {
   "cell_type": "code",
   "execution_count": null,
   "metadata": {},
   "outputs": [],
   "source": []
  }
 ],
 "metadata": {
  "kernelspec": {
   "display_name": "Python 3",
   "language": "python",
   "name": "python3"
  },
  "language_info": {
   "codemirror_mode": {
    "name": "ipython",
    "version": 3
   },
   "file_extension": ".py",
   "mimetype": "text/x-python",
   "name": "python",
   "nbconvert_exporter": "python",
   "pygments_lexer": "ipython3",
   "version": "3.8.3"
  }
 },
 "nbformat": 4,
 "nbformat_minor": 4
}
